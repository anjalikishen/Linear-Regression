#Import library
import statsmodels.formula.api as smf
from statsmodels.stats.anova import anova_lm
from statsmodels.graphics.gofplots import qqplot
import pandas as pd

#Load data into the variable and view it
insurance = pd.read_csv ("Insurance Claims.csv")
insurance.info()
insurance.head()

#View data trnd...
fig = plt.figure()
ax = fig.add_subplot (1,1,1)
ax.scatter ('Age', 'Claims', data=insurance, c='b', marker='o', s=40)
ax.set_xlabel ('Age of the Insured Customer (years)')
ax.set_ylabel ('Health Insurance Claim Amount ($)')
ax.set_title ('Insurance Claims versus Age of the Insured')

#Run the Machine Algo
model = smf.ols ('Claims ~ Age', data=insurance)
results = model.fit()
print results.summary()

#Estmt the Value
insurance ['EstClaims'] = results.predict()
insurance.info()

fig = plt.figure()
ax = fig.add_subplot (1,1,1)
ax.scatter ('Age', 'Claims', data=insurance, c='b', marker='o', s=40, label='Claims')
ax.plot ('Age', 'EstClaims', data=insurance, c='r', marker='x', s=100, label='Est Claims')
ax.set_xlabel ('Age of the Insured Customer (years)')
ax.set_ylabel ('Health Insurance Claim Amount ($)')
ax.set_title ('Insurance Claims (actual & estimated) versus Age of the Insured')
ax.legend (loc='upper left')

fig = plt.figure()
ax = fig.add_subplot (1,1,1)
ax.scatter ('EstClaims', 'Claims', data=insurance, c='b', marker='o', s=40, label='Claims')
ax.plot ('EstClaims', 'EstClaims', data=insurance, c='r', label='Est Claims')
ax.set_xlabel ('Estimated Health Insurance Claim Amount ($)')
ax.set_ylabel ('Actual Health Insurance Claim Amount ($)')
ax.set_title ('Health Insurance Claim Amount -  actual versus estimated')
ax.legend (loc='upper left')

fig = plt.figure()
ax = fig.add_subplot (1,1,1)
buckets = [0, 0.1, 0.2, 0.3, 0.4, 0.5, 0.6, 0.7, 0.8, 0.9, 1]
buckets_labels = [0, 10, 20, 30, 40, 50, 60, 70, 80, 90, 100]
deciles = array (insurance ['Claims'].quantile (buckets))
ax.scatter (buckets_labels, deciles, c='b', marker='o', s=40)
ax.set_xlabel ('Deciles (%)')
ax.set_ylabel ('Health Insurance Claim Amount ($)')
ax.set_title ('Health Insurance Claim Amount -  normal probability plot')

fig = plt.figure()
ax = fig.add_subplot (1,1,1)
qqplot (results.resid, ax=ax)
ax.set_xlabel ('Theoretical Quantiles from the Normal Distribution')
ax.set_ylabel ('Sample Quantiles of Residuals')
ax.set_title ('Normal Quantile-Quantile Plot of Residuals')

fig = plt.figure()
ax = fig.add_subplot (1,1,1)
ax.scatter ('EstClaims', results.resid, data=insurance, c='b', marker='o', s=40)
ax.set_xlabel ('Estimated Health Insurance Claim Amount ($)')
ax.set_ylabel ('Residuals')
ax.set_title ('Residuals versus Estimated Health Insurance Claim Amount')

fig = plt.figure()
ax = fig.add_subplot (1,1,1)
ax.scatter ('Claims', results.resid, data=insurance, c='b', marker='o', s=40)
ax.set_xlabel ('Actual Health Insurance Claim Amount ($)')
ax.set_ylabel ('Residuals')
ax.set_title ('Residuals versus Actual Health Insurance Claim Amount')

fig = plt.figure()
ax = fig.add_subplot (1,1,1)
ax.hist (results.resid, bins=50, normed=True, color='r', alpha=0.5)
ax.set_xlabel ('Residuals')
ax.set_ylabel ('Relative Frequency')
ax.set_title ('Residuals Histogram')

fig = plt.figure()
ax = fig.add_subplot (1,1,1)
ax.scatter ('Age', results.resid, data=insurance, c='b', marker='o', s=40)
ax.set_xlabel ('Age of the Insured Customer (years)')
ax.set_ylabel ('Residuals')
ax.set_title ('Residuals versus Age of the Insured')

fig = plt.figure()
ax = fig.add_subplot (1,1,1)
obs = arange (1, insurance ['Claims'].count()+1)
ax.plot (obs, results.resid, c='b', marker='o', markersize=10)
ax.set_xlabel ('Observation number')
ax.set_ylabel ('Residuals')
ax.set_title ('Run Chart -  Residuals across Observations')
